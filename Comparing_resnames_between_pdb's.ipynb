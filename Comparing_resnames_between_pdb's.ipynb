{
  "nbformat": 4,
  "nbformat_minor": 0,
  "metadata": {
    "colab": {
      "provenance": []
    },
    "kernelspec": {
      "name": "python3",
      "display_name": "Python 3"
    },
    "language_info": {
      "name": "python"
    }
  },
  "cells": [
    {
      "cell_type": "code",
      "execution_count": 83,
      "metadata": {
        "colab": {
          "base_uri": "https://localhost:8080/"
        },
        "id": "mjLN7ew4kUqa",
        "outputId": "7227eae4-7b3d-4d37-fb29-3f98a14213d9"
      },
      "outputs": [
        {
          "output_type": "stream",
          "name": "stdout",
          "text": [
            "Requirement already satisfied: MDAnalysis in /usr/local/lib/python3.10/dist-packages (2.7.0)\n",
            "Requirement already satisfied: numpy<2.0,>=1.22.3 in /usr/local/lib/python3.10/dist-packages (from MDAnalysis) (1.23.5)\n",
            "Requirement already satisfied: GridDataFormats>=0.4.0 in /usr/local/lib/python3.10/dist-packages (from MDAnalysis) (1.0.2)\n",
            "Requirement already satisfied: mmtf-python>=1.0.0 in /usr/local/lib/python3.10/dist-packages (from MDAnalysis) (1.1.3)\n",
            "Requirement already satisfied: joblib>=0.12 in /usr/local/lib/python3.10/dist-packages (from MDAnalysis) (1.3.2)\n",
            "Requirement already satisfied: scipy>=1.5.0 in /usr/local/lib/python3.10/dist-packages (from MDAnalysis) (1.11.4)\n",
            "Requirement already satisfied: matplotlib>=1.5.1 in /usr/local/lib/python3.10/dist-packages (from MDAnalysis) (3.7.1)\n",
            "Requirement already satisfied: tqdm>=4.43.0 in /usr/local/lib/python3.10/dist-packages (from MDAnalysis) (4.66.1)\n",
            "Requirement already satisfied: threadpoolctl in /usr/local/lib/python3.10/dist-packages (from MDAnalysis) (3.2.0)\n",
            "Requirement already satisfied: packaging in /usr/local/lib/python3.10/dist-packages (from MDAnalysis) (23.2)\n",
            "Requirement already satisfied: fasteners in /usr/local/lib/python3.10/dist-packages (from MDAnalysis) (0.19)\n",
            "Requirement already satisfied: mda-xdrlib in /usr/local/lib/python3.10/dist-packages (from MDAnalysis) (0.2.0)\n",
            "Requirement already satisfied: mrcfile in /usr/local/lib/python3.10/dist-packages (from GridDataFormats>=0.4.0->MDAnalysis) (1.5.0)\n",
            "Requirement already satisfied: contourpy>=1.0.1 in /usr/local/lib/python3.10/dist-packages (from matplotlib>=1.5.1->MDAnalysis) (1.2.0)\n",
            "Requirement already satisfied: cycler>=0.10 in /usr/local/lib/python3.10/dist-packages (from matplotlib>=1.5.1->MDAnalysis) (0.12.1)\n",
            "Requirement already satisfied: fonttools>=4.22.0 in /usr/local/lib/python3.10/dist-packages (from matplotlib>=1.5.1->MDAnalysis) (4.47.0)\n",
            "Requirement already satisfied: kiwisolver>=1.0.1 in /usr/local/lib/python3.10/dist-packages (from matplotlib>=1.5.1->MDAnalysis) (1.4.5)\n",
            "Requirement already satisfied: pillow>=6.2.0 in /usr/local/lib/python3.10/dist-packages (from matplotlib>=1.5.1->MDAnalysis) (9.4.0)\n",
            "Requirement already satisfied: pyparsing>=2.3.1 in /usr/local/lib/python3.10/dist-packages (from matplotlib>=1.5.1->MDAnalysis) (3.1.1)\n",
            "Requirement already satisfied: python-dateutil>=2.7 in /usr/local/lib/python3.10/dist-packages (from matplotlib>=1.5.1->MDAnalysis) (2.8.2)\n",
            "Requirement already satisfied: msgpack>=1.0.0 in /usr/local/lib/python3.10/dist-packages (from mmtf-python>=1.0.0->MDAnalysis) (1.0.7)\n",
            "Requirement already satisfied: six>=1.5 in /usr/local/lib/python3.10/dist-packages (from python-dateutil>=2.7->matplotlib>=1.5.1->MDAnalysis) (1.16.0)\n"
          ]
        }
      ],
      "source": [
        "pip install MDAnalysis"
      ]
    },
    {
      "cell_type": "markdown",
      "source": [
        "# Import libraries"
      ],
      "metadata": {
        "id": "3fJxVmkLmHf2"
      }
    },
    {
      "cell_type": "code",
      "source": [
        "import MDAnalysis as mda\n",
        "import pandas as pd\n",
        "import numpy as np\n",
        "from google.colab import files"
      ],
      "metadata": {
        "id": "L2q7jvf3mMp_"
      },
      "execution_count": 133,
      "outputs": []
    },
    {
      "cell_type": "markdown",
      "source": [
        "# Importing files"
      ],
      "metadata": {
        "id": "C0wn7YjkmmuO"
      }
    },
    {
      "cell_type": "code",
      "source": [
        "uploaded = files.upload()"
      ],
      "metadata": {
        "colab": {
          "base_uri": "https://localhost:8080/",
          "height": 285
        },
        "id": "z2icQdzjmrSr",
        "outputId": "760f67e7-12a1-49c2-83da-1b340af1b66e"
      },
      "execution_count": 134,
      "outputs": [
        {
          "output_type": "display_data",
          "data": {
            "text/plain": [
              "<IPython.core.display.HTML object>"
            ],
            "text/html": [
              "\n",
              "     <input type=\"file\" id=\"files-b4bc8aeb-7eec-461e-90c5-91937460636a\" name=\"files[]\" multiple disabled\n",
              "        style=\"border:none\" />\n",
              "     <output id=\"result-b4bc8aeb-7eec-461e-90c5-91937460636a\">\n",
              "      Upload widget is only available when the cell has been executed in the\n",
              "      current browser session. Please rerun this cell to enable.\n",
              "      </output>\n",
              "      <script>// Copyright 2017 Google LLC\n",
              "//\n",
              "// Licensed under the Apache License, Version 2.0 (the \"License\");\n",
              "// you may not use this file except in compliance with the License.\n",
              "// You may obtain a copy of the License at\n",
              "//\n",
              "//      http://www.apache.org/licenses/LICENSE-2.0\n",
              "//\n",
              "// Unless required by applicable law or agreed to in writing, software\n",
              "// distributed under the License is distributed on an \"AS IS\" BASIS,\n",
              "// WITHOUT WARRANTIES OR CONDITIONS OF ANY KIND, either express or implied.\n",
              "// See the License for the specific language governing permissions and\n",
              "// limitations under the License.\n",
              "\n",
              "/**\n",
              " * @fileoverview Helpers for google.colab Python module.\n",
              " */\n",
              "(function(scope) {\n",
              "function span(text, styleAttributes = {}) {\n",
              "  const element = document.createElement('span');\n",
              "  element.textContent = text;\n",
              "  for (const key of Object.keys(styleAttributes)) {\n",
              "    element.style[key] = styleAttributes[key];\n",
              "  }\n",
              "  return element;\n",
              "}\n",
              "\n",
              "// Max number of bytes which will be uploaded at a time.\n",
              "const MAX_PAYLOAD_SIZE = 100 * 1024;\n",
              "\n",
              "function _uploadFiles(inputId, outputId) {\n",
              "  const steps = uploadFilesStep(inputId, outputId);\n",
              "  const outputElement = document.getElementById(outputId);\n",
              "  // Cache steps on the outputElement to make it available for the next call\n",
              "  // to uploadFilesContinue from Python.\n",
              "  outputElement.steps = steps;\n",
              "\n",
              "  return _uploadFilesContinue(outputId);\n",
              "}\n",
              "\n",
              "// This is roughly an async generator (not supported in the browser yet),\n",
              "// where there are multiple asynchronous steps and the Python side is going\n",
              "// to poll for completion of each step.\n",
              "// This uses a Promise to block the python side on completion of each step,\n",
              "// then passes the result of the previous step as the input to the next step.\n",
              "function _uploadFilesContinue(outputId) {\n",
              "  const outputElement = document.getElementById(outputId);\n",
              "  const steps = outputElement.steps;\n",
              "\n",
              "  const next = steps.next(outputElement.lastPromiseValue);\n",
              "  return Promise.resolve(next.value.promise).then((value) => {\n",
              "    // Cache the last promise value to make it available to the next\n",
              "    // step of the generator.\n",
              "    outputElement.lastPromiseValue = value;\n",
              "    return next.value.response;\n",
              "  });\n",
              "}\n",
              "\n",
              "/**\n",
              " * Generator function which is called between each async step of the upload\n",
              " * process.\n",
              " * @param {string} inputId Element ID of the input file picker element.\n",
              " * @param {string} outputId Element ID of the output display.\n",
              " * @return {!Iterable<!Object>} Iterable of next steps.\n",
              " */\n",
              "function* uploadFilesStep(inputId, outputId) {\n",
              "  const inputElement = document.getElementById(inputId);\n",
              "  inputElement.disabled = false;\n",
              "\n",
              "  const outputElement = document.getElementById(outputId);\n",
              "  outputElement.innerHTML = '';\n",
              "\n",
              "  const pickedPromise = new Promise((resolve) => {\n",
              "    inputElement.addEventListener('change', (e) => {\n",
              "      resolve(e.target.files);\n",
              "    });\n",
              "  });\n",
              "\n",
              "  const cancel = document.createElement('button');\n",
              "  inputElement.parentElement.appendChild(cancel);\n",
              "  cancel.textContent = 'Cancel upload';\n",
              "  const cancelPromise = new Promise((resolve) => {\n",
              "    cancel.onclick = () => {\n",
              "      resolve(null);\n",
              "    };\n",
              "  });\n",
              "\n",
              "  // Wait for the user to pick the files.\n",
              "  const files = yield {\n",
              "    promise: Promise.race([pickedPromise, cancelPromise]),\n",
              "    response: {\n",
              "      action: 'starting',\n",
              "    }\n",
              "  };\n",
              "\n",
              "  cancel.remove();\n",
              "\n",
              "  // Disable the input element since further picks are not allowed.\n",
              "  inputElement.disabled = true;\n",
              "\n",
              "  if (!files) {\n",
              "    return {\n",
              "      response: {\n",
              "        action: 'complete',\n",
              "      }\n",
              "    };\n",
              "  }\n",
              "\n",
              "  for (const file of files) {\n",
              "    const li = document.createElement('li');\n",
              "    li.append(span(file.name, {fontWeight: 'bold'}));\n",
              "    li.append(span(\n",
              "        `(${file.type || 'n/a'}) - ${file.size} bytes, ` +\n",
              "        `last modified: ${\n",
              "            file.lastModifiedDate ? file.lastModifiedDate.toLocaleDateString() :\n",
              "                                    'n/a'} - `));\n",
              "    const percent = span('0% done');\n",
              "    li.appendChild(percent);\n",
              "\n",
              "    outputElement.appendChild(li);\n",
              "\n",
              "    const fileDataPromise = new Promise((resolve) => {\n",
              "      const reader = new FileReader();\n",
              "      reader.onload = (e) => {\n",
              "        resolve(e.target.result);\n",
              "      };\n",
              "      reader.readAsArrayBuffer(file);\n",
              "    });\n",
              "    // Wait for the data to be ready.\n",
              "    let fileData = yield {\n",
              "      promise: fileDataPromise,\n",
              "      response: {\n",
              "        action: 'continue',\n",
              "      }\n",
              "    };\n",
              "\n",
              "    // Use a chunked sending to avoid message size limits. See b/62115660.\n",
              "    let position = 0;\n",
              "    do {\n",
              "      const length = Math.min(fileData.byteLength - position, MAX_PAYLOAD_SIZE);\n",
              "      const chunk = new Uint8Array(fileData, position, length);\n",
              "      position += length;\n",
              "\n",
              "      const base64 = btoa(String.fromCharCode.apply(null, chunk));\n",
              "      yield {\n",
              "        response: {\n",
              "          action: 'append',\n",
              "          file: file.name,\n",
              "          data: base64,\n",
              "        },\n",
              "      };\n",
              "\n",
              "      let percentDone = fileData.byteLength === 0 ?\n",
              "          100 :\n",
              "          Math.round((position / fileData.byteLength) * 100);\n",
              "      percent.textContent = `${percentDone}% done`;\n",
              "\n",
              "    } while (position < fileData.byteLength);\n",
              "  }\n",
              "\n",
              "  // All done.\n",
              "  yield {\n",
              "    response: {\n",
              "      action: 'complete',\n",
              "    }\n",
              "  };\n",
              "}\n",
              "\n",
              "scope.google = scope.google || {};\n",
              "scope.google.colab = scope.google.colab || {};\n",
              "scope.google.colab._files = {\n",
              "  _uploadFiles,\n",
              "  _uploadFilesContinue,\n",
              "};\n",
              "})(self);\n",
              "</script> "
            ]
          },
          "metadata": {}
        },
        {
          "output_type": "stream",
          "name": "stdout",
          "text": [
            "Saving 1jfw.pdb to 1jfw (1).pdb\n",
            "Saving 1k5k.pdb to 1k5k (1).pdb\n",
            "Saving 1tac.pdb to 1tac (1).pdb\n",
            "Saving 1tbc.pdb to 1tbc (1).pdb\n",
            "Saving 1tiv.pdb to 1tiv (1).pdb\n",
            "Saving 3mi9.pdb to 3mi9.pdb\n",
            "Saving 5l1z.pdb to 5l1z (1).pdb\n"
          ]
        }
      ]
    },
    {
      "cell_type": "code",
      "source": [
        "u1 = mda.Universe(\"3mi9.pdb\")\n",
        "u2 = mda.Universe(\"1jfw.pdb\")\n",
        "u3 = mda.Universe(\"1k5k.pdb\")\n",
        "u4 = mda.Universe(\"1tac.pdb\")\n",
        "u5 = mda.Universe(\"1tbc.pdb\")\n",
        "u6 = mda.Universe(\"1tiv.pdb\")\n",
        "u7 = mda.Universe(\"5l1z.pdb\")"
      ],
      "metadata": {
        "id": "ysbkSD-anfnm"
      },
      "execution_count": 135,
      "outputs": []
    },
    {
      "cell_type": "markdown",
      "source": [
        "# Selecting Alpha Carbons from 1 to 48"
      ],
      "metadata": {
        "id": "d2p1eRWpotYr"
      }
    },
    {
      "cell_type": "code",
      "source": [
        "alpha_carbons1 = u1.select_atoms('name CA and segid C and resid 1:42')\n",
        "alpha_carbons2 = u2.select_atoms('name CA and segid A and resid 1:42')\n",
        "alpha_carbons3 = u3.select_atoms('name CA and segid A and resid 1:42')\n",
        "alpha_carbons4 = u4.select_atoms('name CA and segid A and resid 1:42')\n",
        "alpha_carbons5 = u5.select_atoms('name CA and segid A and resid 1:42')\n",
        "alpha_carbons6 = u6.select_atoms('name CA and segid A and resid 1:42')\n",
        "alpha_carbons7 = u7.select_atoms('name CA and segid D and resid 1:42')"
      ],
      "metadata": {
        "id": "bgNHmEVGo1JQ"
      },
      "execution_count": 137,
      "outputs": []
    },
    {
      "cell_type": "markdown",
      "source": [
        "# Printing alpha carbon resnames from residue 1 to 42"
      ],
      "metadata": {
        "id": "9neqt0E8pe0B"
      }
    },
    {
      "cell_type": "code",
      "source": [
        "resnames_pdb1 = set(atom.resname for atom in alpha_carbons1)\n",
        "print(\"3mi9.pdb:\", resnames_pdb1)\n",
        "resnames_pdb2 = set(atom.resname for atom in alpha_carbons2)\n",
        "print(\"1jfw.pdb:\", resnames_pdb2)\n",
        "resnames_pdb3 = set(atom.resname for atom in alpha_carbons3)\n",
        "print(\"1k5k.pdb:\", resnames_pdb3)\n",
        "resnames_pdb4 = set(atom.resname for atom in alpha_carbons4)\n",
        "print(\"1tac.pdb:\", resnames_pdb4)\n",
        "resnames_pdb5 = set(atom.resname for atom in alpha_carbons5)\n",
        "print(\"1tbc.pdb:\", resnames_pdb5)\n",
        "resnames_pdb6 = set(atom.resname for atom in alpha_carbons6)\n",
        "print(\"1tiv.pdb:\", resnames_pdb6)\n",
        "resnames_pdb7 = set(atom.resname for atom in alpha_carbons7)\n",
        "print(\"5l1z.pdb:\", resnames_pdb7)"
      ],
      "metadata": {
        "colab": {
          "base_uri": "https://localhost:8080/"
        },
        "id": "q-iOVSIEpkqN",
        "outputId": "070d6aba-d0b8-483f-9993-d9348b6e657d"
      },
      "execution_count": 140,
      "outputs": [
        {
          "output_type": "stream",
          "name": "stdout",
          "text": [
            "3mi9.pdb: {'LEU', 'GLU', 'ARG', 'MET', 'ASP', 'ILE', 'VAL', 'PRO', 'GLY', 'ALA', 'ASN', 'SER', 'LYS', 'TRP', 'CYS', 'HIS', 'PHE', 'GLN', 'THR', 'TYR'}\n",
            "1jfw.pdb: {'CYS', 'GLN', 'THR', 'LEU', 'GLU', 'ARG', 'HIS', 'MET', 'GLY', 'ASP', 'SER', 'ALA', 'TYR', 'VAL', 'PHE', 'PRO', 'LYS', 'TRP'}\n",
            "1k5k.pdb: {'LEU', 'GLU', 'ARG', 'MET', 'ASP', 'ILE', 'VAL', 'PRO', 'GLY', 'ASN', 'LYS', 'SER', 'TRP', 'CYS', 'HIS', 'PHE', 'GLN', 'THR', 'TYR'}\n",
            "1tac.pdb: {'GLN', 'THR', 'LEU', 'GLU', 'HIS', 'GLY', 'ARG', 'TYR', 'ASP', 'ASN', 'ILE', 'LYS', 'ALA', 'VAL', 'PHE', 'PRO', 'SER', 'TRP'}\n",
            "1tbc.pdb: {'LEU', 'GLU', 'ARG', 'ASP', 'ILE', 'VAL', 'PRO', 'GLY', 'ALA', 'ASN', 'LYS', 'SER', 'TRP', 'CYS', 'HIS', 'PHE', 'GLN', 'THR', 'TYR'}\n",
            "1tiv.pdb: {'GLU', 'ARG', 'MET', 'ASP', 'ILE', 'VAL', 'PRO', 'GLY', 'ALA', 'ASN', 'LYS', 'SER', 'TRP', 'CYS', 'HIS', 'PHE', 'GLN', 'THR', 'TYR'}\n",
            "5l1z.pdb: {'LEU', 'GLU', 'ARG', 'MET', 'ASP', 'ILE', 'VAL', 'PRO', 'GLY', 'ALA', 'ASN', 'SER', 'LYS', 'TRP', 'CYS', 'HIS', 'PHE', 'GLN', 'THR', 'TYR'}\n"
          ]
        }
      ]
    },
    {
      "cell_type": "markdown",
      "source": [
        "# Comparing all PDB resdiues with 3mi9.pdb resdiue"
      ],
      "metadata": {
        "id": "JYrRcqFxU6SJ"
      }
    },
    {
      "cell_type": "code",
      "source": [
        "if resnames_pdb1 == resnames_pdb2:\n",
        "    print(\"The atoms of 3mi9.pdb and 1jfw.pdb have the same resname from 1 to 42\")\n",
        "else:\n",
        "    print(\"The atoms of 3mi9.pdb and 1jfw.pdb do not have the same resname from 1 to 42\")\n",
        "\n",
        "if resnames_pdb1 == resnames_pdb3:\n",
        "    print(\"The atoms of 3mi9.pdb and 1k5k.pdb have the same resname from 1 to 42\")\n",
        "else:\n",
        "    print(\"The atoms of 3mi9.pdb and 1k5k.pdb do not have the same resname from 1 to 42\")\n",
        "\n",
        "if resnames_pdb1 == resnames_pdb4:\n",
        "    print(\"The atoms of 3mi9.pdb and 1tac.pdb have the same resname from 1 to 42\")\n",
        "else:\n",
        "    print(\"The atoms of 3mi9.pdb and 1tac.pdb do not have the same resname from 1 to 42\")\n",
        "\n",
        "if resnames_pdb1 == resnames_pdb5:\n",
        "    print(\"The atoms of 3mi9.pdb and 1tbc.pdb have the same resname from 1 to 42\")\n",
        "else:\n",
        "    print(\"The atoms of 3mi9.pdb and 1tbc.pdb do not have the same resname from 1 to 42\")\n",
        "\n",
        "if resnames_pdb1 == resnames_pdb6:\n",
        "    print(\"The atoms of 3mi9.pdb and 1tiv.pdb have the same resname from 1 to 42\")\n",
        "else:\n",
        "    print(\"The atoms of 3mi9.pdb and 1tiv.pdb do not have the same resname from 1 to 42\")\n",
        "\n",
        "if resnames_pdb1 == resnames_pdb7:\n",
        "    print(\"The atoms of 3mi9.pdb and 5l1z.pdb have the same resname from 1 to 42\")\n",
        "else:\n",
        "    print(\"The atoms of 3mi9.pdb and 5l1z.pdb do not have the same resname from 1 to 42\")"
      ],
      "metadata": {
        "colab": {
          "base_uri": "https://localhost:8080/"
        },
        "id": "s8tv7vL_VLE2",
        "outputId": "6f77dc2e-0071-4690-8f26-4a8112fe1b4c"
      },
      "execution_count": 141,
      "outputs": [
        {
          "output_type": "stream",
          "name": "stdout",
          "text": [
            "The atoms of 3mi9.pdb and 1jfw.pdb do not have the same resname from 1 to 42\n",
            "The atoms of 3mi9.pdb and 1k5k.pdb do not have the same resname from 1 to 42\n",
            "The atoms of 3mi9.pdb and 1tac.pdb do not have the same resname from 1 to 42\n",
            "The atoms of 3mi9.pdb and 1tbc.pdb do not have the same resname from 1 to 42\n",
            "The atoms of 3mi9.pdb and 1tiv.pdb do not have the same resname from 1 to 42\n",
            "The atoms of 3mi9.pdb and 5l1z.pdb have the same resname from 1 to 42\n"
          ]
        }
      ]
    }
  ]
}